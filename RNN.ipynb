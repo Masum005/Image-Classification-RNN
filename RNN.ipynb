{
 "cells": [
  {
   "cell_type": "code",
   "execution_count": 1,
   "id": "c50ffc42-94cc-4ffa-b047-cd1c7796426a",
   "metadata": {},
   "outputs": [],
   "source": [
    "#import model and datasets load\n",
    "import numpy as np\n",
    "import warnings\n",
    "warnings.filterwarnings('ignore')\n",
    "\n",
    "#some scikit-learn function\n",
    "from sklearn.metrics import accuracy_score\n",
    "from tensorflow.keras.datasets import reuters\n",
    "from tensorflow.keras.preprocessing.sequence import pad_sequences\n",
    "from tensorflow.keras.utils import to_categorical"
   ]
  },
  {
   "cell_type": "code",
   "execution_count": 2,
   "id": "303bf536-a5a9-4d1c-8479-a0f52b6627c8",
   "metadata": {},
   "outputs": [],
   "source": [
    "#paramets\n",
    "num_words = 30000\n",
    "mxlen = 50\n",
    "text_split = 0.2 #train split = 0.8"
   ]
  },
  {
   "cell_type": "code",
   "execution_count": 3,
   "id": "aaa0cd50-6a75-47ef-ade9-02b899e10632",
   "metadata": {},
   "outputs": [],
   "source": [
    "(x_train, y_train), (x_test, y_test) = reuters.load_data(num_words = num_words, test_split=text_split)"
   ]
  },
  {
   "cell_type": "code",
   "execution_count": 4,
   "id": "106c35e3-854d-4e0f-8ede-c7297fcbf06b",
   "metadata": {},
   "outputs": [],
   "source": [
    "x_train = pad_sequences(x_train, padding='post')\n",
    "x_test = pad_sequences(x_test, padding='post')"
   ]
  },
  {
   "cell_type": "code",
   "execution_count": 5,
   "id": "14d1a7af-5031-466e-891e-77594c6213f6",
   "metadata": {},
   "outputs": [],
   "source": [
    "x_train = np.array(x_train).reshape((x_train.shape[0], x_train.shape[1],1))\n",
    "x_test = np.array(x_test).reshape((x_test.shape[0], x_test.shape[1],1))"
   ]
  },
  {
   "cell_type": "code",
   "execution_count": 6,
   "id": "41cfcf8b-99d9-43e5-8462-a1105bcd9492",
   "metadata": {},
   "outputs": [
    {
     "data": {
      "text/plain": [
       "(8982, 2376, 1)"
      ]
     },
     "execution_count": 6,
     "metadata": {},
     "output_type": "execute_result"
    }
   ],
   "source": [
    "x_train.shape"
   ]
  },
  {
   "cell_type": "code",
   "execution_count": 7,
   "id": "2a2c0b9c-c389-4e36-86d5-93bdd6929a44",
   "metadata": {},
   "outputs": [
    {
     "data": {
      "text/plain": [
       "array([[    1],\n",
       "       [27595],\n",
       "       [28842],\n",
       "       ...,\n",
       "       [    0],\n",
       "       [    0],\n",
       "       [    0]])"
      ]
     },
     "execution_count": 7,
     "metadata": {},
     "output_type": "execute_result"
    }
   ],
   "source": [
    "x_train[0]"
   ]
  },
  {
   "cell_type": "code",
   "execution_count": 8,
   "id": "34176f3c-cf38-4cf0-945c-af2bbee8f0e9",
   "metadata": {},
   "outputs": [],
   "source": [
    "\n",
    "y_data = np.concatenate((y_train, y_test))\n",
    "y_data = to_categorical(y_data)"
   ]
  },
  {
   "cell_type": "code",
   "execution_count": 9,
   "id": "5169d9fa-c6ef-4914-9917-50363bf31f27",
   "metadata": {},
   "outputs": [],
   "source": [
    "y_train = y_data[:8982]\n",
    "y_test = y_data[8982:]"
   ]
  },
  {
   "cell_type": "code",
   "execution_count": 10,
   "id": "9e284142-2207-49a5-a037-3ab3b9b99297",
   "metadata": {},
   "outputs": [
    {
     "name": "stdout",
     "output_type": "stream",
     "text": [
      "(8982, 2376, 1)\n",
      "\n",
      "(2246, 1032, 1)\n",
      "\n",
      "(8982, 46)\n",
      "\n",
      "(2246, 46)\n"
     ]
    }
   ],
   "source": [
    "print(x_train.shape)\n",
    "print()\n",
    "print(x_test.shape)\n",
    "print()\n",
    "print(y_train.shape)\n",
    "print()\n",
    "print(y_test.shape)"
   ]
  },
  {
   "cell_type": "markdown",
   "id": "fe85873f-4f2b-475e-9d2b-5bcf2d6106e4",
   "metadata": {},
   "source": [
    "### Vanilla RNN (simle RNN)"
   ]
  },
  {
   "cell_type": "code",
   "execution_count": 11,
   "id": "b0fd5044-c216-4da9-9bd9-e2d23cf2c1cc",
   "metadata": {},
   "outputs": [],
   "source": [
    "from tensorflow.keras.models import Sequential\n",
    "from tensorflow.keras.layers import Dense, SimpleRNN, Activation\n",
    "from tensorflow.keras import optimizers\n",
    "from tensorflow.keras.wrappers.scikit_learn import KerasClassifier"
   ]
  },
  {
   "cell_type": "code",
   "execution_count": 12,
   "id": "6ca7619f-8633-4e00-bbad-7a9c47c1ad6b",
   "metadata": {},
   "outputs": [],
   "source": [
    "def vanilla_RNN():\n",
    "    model = Sequential()\n",
    "    model.add(SimpleRNN(50, input_shape = (49, 1), return_sequences = False))\n",
    "    model.add(Dense(46))\n",
    "    model.add(Activation('softmax'))\n",
    "    \n",
    "    adam_optimizer = optimizers.Adam(learning_rate=0.001)\n",
    "    model.compile(loss = \"categorical_crossentropy\", optimizer = adam_optimizer, metrics=['accuracy'])\n",
    "    \n",
    "    return model"
   ]
  },
  {
   "cell_type": "code",
   "execution_count": 14,
   "id": "e59561e1-0ad8-48cf-ba22-bf110da37c67",
   "metadata": {},
   "outputs": [],
   "source": [
    "model = KerasClassifier(build_fn=vanilla_RNN, epochs = 2, batch_size = 100)"
   ]
  },
  {
   "cell_type": "code",
   "execution_count": 15,
   "id": "5cc6527e-a971-4eb3-b567-243cfa90625c",
   "metadata": {},
   "outputs": [
    {
     "name": "stdout",
     "output_type": "stream",
     "text": [
      "Epoch 1/2\n",
      "WARNING:tensorflow:Model was constructed with shape (None, 49, 1) for input KerasTensor(type_spec=TensorSpec(shape=(None, 49, 1), dtype=tf.float32, name='simple_rnn_input'), name='simple_rnn_input', description=\"created by layer 'simple_rnn_input'\"), but it was called on an input with incompatible shape (None, 2376, 1).\n",
      "WARNING:tensorflow:Model was constructed with shape (None, 49, 1) for input KerasTensor(type_spec=TensorSpec(shape=(None, 49, 1), dtype=tf.float32, name='simple_rnn_input'), name='simple_rnn_input', description=\"created by layer 'simple_rnn_input'\"), but it was called on an input with incompatible shape (None, 2376, 1).\n",
      "90/90 [==============================] - 30s 322ms/step - loss: 2.6803 - accuracy: 0.3104\n",
      "Epoch 2/2\n",
      "90/90 [==============================] - 30s 330ms/step - loss: 2.4110 - accuracy: 0.3517\n"
     ]
    },
    {
     "data": {
      "text/plain": [
       "<keras.callbacks.History at 0x2718a6772b0>"
      ]
     },
     "execution_count": 15,
     "metadata": {},
     "output_type": "execute_result"
    }
   ],
   "source": [
    "model.fit(x_train, y_train)"
   ]
  },
  {
   "cell_type": "code",
   "execution_count": 16,
   "id": "3981f8eb-a4d1-4dba-8bab-c03b5bc4bb90",
   "metadata": {},
   "outputs": [
    {
     "name": "stdout",
     "output_type": "stream",
     "text": [
      "WARNING:tensorflow:Model was constructed with shape (None, 49, 1) for input KerasTensor(type_spec=TensorSpec(shape=(None, 49, 1), dtype=tf.float32, name='simple_rnn_input'), name='simple_rnn_input', description=\"created by layer 'simple_rnn_input'\"), but it was called on an input with incompatible shape (None, 1032, 1).\n"
     ]
    }
   ],
   "source": [
    "y_pred = model.predict(x_test)\n",
    "y_test_ = np.argmax(y_test, axis=1)"
   ]
  },
  {
   "cell_type": "code",
   "execution_count": null,
   "id": "5ca7999e-144f-49c8-b77f-47394b0b3592",
   "metadata": {},
   "outputs": [],
   "source": []
  },
  {
   "cell_type": "code",
   "execution_count": 17,
   "id": "75b5093e-34ed-493b-badd-e1417373296c",
   "metadata": {},
   "outputs": [
    {
     "name": "stdout",
     "output_type": "stream",
     "text": [
      "Accuracy:  0.3619768477292965\n"
     ]
    }
   ],
   "source": [
    "print('Accuracy: ', accuracy_score(y_pred, y_test_))"
   ]
  },
  {
   "cell_type": "markdown",
   "id": "fba173cb-5927-40a5-bb3a-29acf8e8d662",
   "metadata": {},
   "source": [
    "### LSTM"
   ]
  },
  {
   "cell_type": "code",
   "execution_count": 18,
   "id": "ed82aec2-52ee-441d-8870-f1b7e461bd1e",
   "metadata": {},
   "outputs": [],
   "source": [
    "from tensorflow.keras.layers import LSTM"
   ]
  },
  {
   "cell_type": "code",
   "execution_count": 19,
   "id": "1a962257-4791-4147-ac3d-1616dcbcbe9d",
   "metadata": {},
   "outputs": [],
   "source": [
    "def LSTM_RNN():\n",
    "    model = Sequential()\n",
    "    model.add(LSTM(50, input_shape = (49,1), return_sequences = False))\n",
    "    model.add(Dense(46))\n",
    "    model.add(Activation('softmax'))\n",
    "    \n",
    "    adam_optimizer = optimizers.Adam(learning_rate=0.001)\n",
    "    model.compile(loss= \"categorical_crossentropy\", optimizer= adam_optimizer, metrics= ['accuracy'])\n",
    "    \n",
    "    return model\n",
    "\n"
   ]
  },
  {
   "cell_type": "code",
   "execution_count": 20,
   "id": "cdac74b2-ddd1-4341-9081-6bb0881716df",
   "metadata": {},
   "outputs": [],
   "source": [
    "model = KerasClassifier(build_fn=LSTM_RNN, epochs = 2, batch_size = 100)"
   ]
  },
  {
   "cell_type": "code",
   "execution_count": 21,
   "id": "13b06e42-3638-4e7a-b521-697cda21fa0b",
   "metadata": {},
   "outputs": [
    {
     "name": "stdout",
     "output_type": "stream",
     "text": [
      "Epoch 1/2\n",
      "WARNING:tensorflow:Model was constructed with shape (None, 49, 1) for input KerasTensor(type_spec=TensorSpec(shape=(None, 49, 1), dtype=tf.float32, name='lstm_input'), name='lstm_input', description=\"created by layer 'lstm_input'\"), but it was called on an input with incompatible shape (None, 2376, 1).\n",
      "WARNING:tensorflow:Model was constructed with shape (None, 49, 1) for input KerasTensor(type_spec=TensorSpec(shape=(None, 49, 1), dtype=tf.float32, name='lstm_input'), name='lstm_input', description=\"created by layer 'lstm_input'\"), but it was called on an input with incompatible shape (None, 2376, 1).\n",
      "90/90 [==============================] - 246s 3s/step - loss: 2.7694 - accuracy: 0.3212\n",
      "Epoch 2/2\n",
      "90/90 [==============================] - 254s 3s/step - loss: 2.4084 - accuracy: 0.3517\n"
     ]
    },
    {
     "data": {
      "text/plain": [
       "<keras.callbacks.History at 0x2718eb50880>"
      ]
     },
     "execution_count": 21,
     "metadata": {},
     "output_type": "execute_result"
    }
   ],
   "source": [
    "model.fit(x_train, y_train)"
   ]
  },
  {
   "cell_type": "code",
   "execution_count": 22,
   "id": "7c677512-cc19-4688-8da8-fb1adbb4ee66",
   "metadata": {},
   "outputs": [
    {
     "name": "stdout",
     "output_type": "stream",
     "text": [
      "WARNING:tensorflow:Model was constructed with shape (None, 49, 1) for input KerasTensor(type_spec=TensorSpec(shape=(None, 49, 1), dtype=tf.float32, name='lstm_input'), name='lstm_input', description=\"created by layer 'lstm_input'\"), but it was called on an input with incompatible shape (None, 1032, 1).\n"
     ]
    }
   ],
   "source": [
    "y_pred = model.predict(x_test)\n",
    "y_test_ = np.argmax(y_test, axis=1)"
   ]
  },
  {
   "cell_type": "code",
   "execution_count": 23,
   "id": "9f01c011-916d-44bf-bc04-f9ced0ecc898",
   "metadata": {},
   "outputs": [
    {
     "name": "stdout",
     "output_type": "stream",
     "text": [
      "Accuracy:  0.3619768477292965\n"
     ]
    }
   ],
   "source": [
    "print('Accuracy: ', accuracy_score(y_pred, y_test_))"
   ]
  },
  {
   "cell_type": "markdown",
   "id": "bc68d081-4ff2-4f98-82ef-54370738cede",
   "metadata": {},
   "source": [
    "### Advance level LSTM"
   ]
  },
  {
   "cell_type": "code",
   "execution_count": 26,
   "id": "8824baf4-280b-4075-a021-1665d3fc42d2",
   "metadata": {},
   "outputs": [],
   "source": [
    "def Advance_LSTM_RNN():\n",
    "    model = Sequential()\n",
    "    model.add(LSTM(50, input_shape = (49,1), return_sequences = True))\n",
    "    model.add(LSTM(50, return_sequences = False))\n",
    "    model.add(Dense(46))\n",
    "    model.add(Activation('softmax'))\n",
    "    \n",
    "    adam_optimizer = optimizers.Adam(learning_rate=0.001)\n",
    "    model.compile(loss= \"categorical_crossentropy\", optimizer= adam_optimizer, metrics= ['accuracy'])\n",
    "    \n",
    "    return model"
   ]
  },
  {
   "cell_type": "code",
   "execution_count": 32,
   "id": "fc342b99-116c-41f8-afe3-547e985386da",
   "metadata": {},
   "outputs": [],
   "source": [
    "model = KerasClassifier(build_fn=Advance_LSTM_RNN, epochs = 1, batch_size = 500)"
   ]
  },
  {
   "cell_type": "code",
   "execution_count": 33,
   "id": "0d443f23-dbd4-4b9c-9c57-45b4ff02b8b5",
   "metadata": {},
   "outputs": [
    {
     "name": "stdout",
     "output_type": "stream",
     "text": [
      "WARNING:tensorflow:Model was constructed with shape (None, 49, 1) for input KerasTensor(type_spec=TensorSpec(shape=(None, 49, 1), dtype=tf.float32, name='lstm_5_input'), name='lstm_5_input', description=\"created by layer 'lstm_5_input'\"), but it was called on an input with incompatible shape (None, 2376, 1).\n",
      "WARNING:tensorflow:Model was constructed with shape (None, 49, 1) for input KerasTensor(type_spec=TensorSpec(shape=(None, 49, 1), dtype=tf.float32, name='lstm_5_input'), name='lstm_5_input', description=\"created by layer 'lstm_5_input'\"), but it was called on an input with incompatible shape (None, 2376, 1).\n",
      "18/18 [==============================] - 728s 40s/step - loss: 3.5540 - accuracy: 0.3326\n"
     ]
    },
    {
     "data": {
      "text/plain": [
       "<keras.callbacks.History at 0x2719d40f7f0>"
      ]
     },
     "execution_count": 33,
     "metadata": {},
     "output_type": "execute_result"
    }
   ],
   "source": [
    "model.fit(x_train, y_train)"
   ]
  },
  {
   "cell_type": "code",
   "execution_count": 34,
   "id": "86dd2d2d-e3bf-4c4e-81b3-cd27d2698db0",
   "metadata": {},
   "outputs": [
    {
     "name": "stdout",
     "output_type": "stream",
     "text": [
      "WARNING:tensorflow:Model was constructed with shape (None, 49, 1) for input KerasTensor(type_spec=TensorSpec(shape=(None, 49, 1), dtype=tf.float32, name='lstm_5_input'), name='lstm_5_input', description=\"created by layer 'lstm_5_input'\"), but it was called on an input with incompatible shape (None, 1032, 1).\n",
      "Accuracy:  0.3619768477292965\n"
     ]
    }
   ],
   "source": [
    "y_pred = model.predict(x_test)\n",
    "y_test_ = np.argmax(y_test, axis=1)\n",
    "print('Accuracy: ', accuracy_score(y_pred, y_test_))"
   ]
  },
  {
   "cell_type": "code",
   "execution_count": null,
   "id": "168ce5f1-2bf5-4a3e-9e60-bc62d5182a6b",
   "metadata": {},
   "outputs": [],
   "source": []
  },
  {
   "cell_type": "code",
   "execution_count": null,
   "id": "bc7ef911-770e-4fb5-9a7c-b6b036fd50e0",
   "metadata": {},
   "outputs": [],
   "source": []
  }
 ],
 "metadata": {
  "kernelspec": {
   "display_name": "Python 3",
   "language": "python",
   "name": "python3"
  },
  "language_info": {
   "codemirror_mode": {
    "name": "ipython",
    "version": 3
   },
   "file_extension": ".py",
   "mimetype": "text/x-python",
   "name": "python",
   "nbconvert_exporter": "python",
   "pygments_lexer": "ipython3",
   "version": "3.9.6"
  }
 },
 "nbformat": 4,
 "nbformat_minor": 5
}
