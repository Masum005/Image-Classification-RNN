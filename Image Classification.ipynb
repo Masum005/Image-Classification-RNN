{
 "cells": [
  {
   "cell_type": "code",
   "execution_count": 251,
   "id": "613af568-0227-40bc-94e0-5dd736bd9798",
   "metadata": {},
   "outputs": [],
   "source": [
    "#import mudule\n",
    "from keras.models import Sequential\n",
    "from keras.layers import Conv2D, MaxPool2D, Flatten, Dense\n",
    "from keras.preprocessing.image import ImageDataGenerator"
   ]
  },
  {
   "cell_type": "markdown",
   "id": "446935f7-ae23-4e3e-99f0-6d9ea6acb89c",
   "metadata": {},
   "source": [
    "### Initialize The CNN"
   ]
  },
  {
   "cell_type": "code",
   "execution_count": 252,
   "id": "afeed082-2df0-4bbf-b7a8-2cb51ac02c48",
   "metadata": {},
   "outputs": [],
   "source": [
    "classifier = Sequential()  # Empty Module\n"
   ]
  },
  {
   "cell_type": "code",
   "execution_count": 253,
   "id": "6a52018b-13c4-45f0-a5de-10dcd4340559",
   "metadata": {},
   "outputs": [],
   "source": [
    "classifier.add (Conv2D(32, (3,3), input_shape = (128, 128, 3), activation = 'relu')) # 1st Hidden layer; 32 --> note ,(3,3) --> kernal, (128,128)= sixe,3 = color"
   ]
  },
  {
   "cell_type": "code",
   "execution_count": 254,
   "id": "152e068a-9c53-4c53-a535-9df607f146ea",
   "metadata": {},
   "outputs": [],
   "source": [
    "classifier.add(MaxPool2D(pool_size = (2,2)))"
   ]
  },
  {
   "cell_type": "code",
   "execution_count": 255,
   "id": "fce055f8-6d5a-42ef-904b-5f0646fa2925",
   "metadata": {},
   "outputs": [],
   "source": [
    "classifier.add (Conv2D(64, (3,3), activation = 'relu')) # 2nd hidden layer"
   ]
  },
  {
   "cell_type": "code",
   "execution_count": 256,
   "id": "046854bf-9e53-4a62-b074-029274763602",
   "metadata": {},
   "outputs": [],
   "source": [
    "classifier.add(MaxPool2D(pool_size = (2,2)))"
   ]
  },
  {
   "cell_type": "code",
   "execution_count": 257,
   "id": "17d45118-d2cb-4ecf-8494-60dcc8a9ba8b",
   "metadata": {},
   "outputs": [],
   "source": [
    "classifier.add (Conv2D(128, (3,3), activation = 'relu')) # 3rd hidden layer"
   ]
  },
  {
   "cell_type": "code",
   "execution_count": 258,
   "id": "ca1592b6-69de-4558-b508-eaa4adbdbe84",
   "metadata": {},
   "outputs": [],
   "source": [
    "classifier.add(MaxPool2D(pool_size = (2,2)))"
   ]
  },
  {
   "cell_type": "code",
   "execution_count": 259,
   "id": "be74e1e7-4c4c-4da3-ab97-2aacf73c583c",
   "metadata": {},
   "outputs": [],
   "source": [
    "classifier.add(Flatten()) # always 1 array"
   ]
  },
  {
   "cell_type": "markdown",
   "id": "d700c2c1-7a90-412e-b4fb-abb134c52a5a",
   "metadata": {},
   "source": [
    "### Connected layer"
   ]
  },
  {
   "cell_type": "code",
   "execution_count": 260,
   "id": "b8754bfe-67d8-44c9-8f44-22ed8ba95fd6",
   "metadata": {},
   "outputs": [],
   "source": [
    "classifier.add(Dense(128, activation = 'relu'))"
   ]
  },
  {
   "cell_type": "code",
   "execution_count": 261,
   "id": "2d18161d-1ad8-4fbb-8398-3f060284249e",
   "metadata": {},
   "outputs": [],
   "source": [
    "classifier.add(Dense(3, activation = 'softmax'))"
   ]
  },
  {
   "cell_type": "code",
   "execution_count": 262,
   "id": "ea228eb6-9dda-4b2c-9648-d6389ace2dad",
   "metadata": {},
   "outputs": [],
   "source": [
    "classifier.compile(optimizer='adam',\n",
    "                  loss = 'categorical_crossentropy',\n",
    "                  metrics= ['accuracy'])"
   ]
  },
  {
   "cell_type": "markdown",
   "id": "fd209b45-78be-4827-986c-b8970653bcba",
   "metadata": {},
   "source": [
    "### Fitting Image with the model"
   ]
  },
  {
   "cell_type": "code",
   "execution_count": 263,
   "id": "17527080-9d94-4c70-9175-42f453a9ccc9",
   "metadata": {},
   "outputs": [],
   "source": [
    "train_datagen = ImageDataGenerator(rescale= 1./255,\n",
    "                                   shear_range=0.2,\n",
    "                                   zoom_range= 0.2,\n",
    "                                   horizontal_flip= True)"
   ]
  },
  {
   "cell_type": "code",
   "execution_count": 264,
   "id": "c6223907-477a-4be2-b477-75889328ac5d",
   "metadata": {},
   "outputs": [],
   "source": [
    " test_datagen = ImageDataGenerator(rescale= 1./255)"
   ]
  },
  {
   "cell_type": "code",
   "execution_count": 265,
   "id": "d0c9260e-9a3f-40ed-b328-fb80718f88ac",
   "metadata": {},
   "outputs": [
    {
     "name": "stdout",
     "output_type": "stream",
     "text": [
      "Found 2400 images belonging to 3 classes.\n",
      "Found 600 images belonging to 3 classes.\n"
     ]
    }
   ],
   "source": [
    "training_dataset = train_datagen.flow_from_directory(\"c:/Users/MMasum/OneDrive/Desktop/mm/training_set\",target_size=(128,128), batch_size=32, class_mode=\"categorical\")\n",
    "test_dataset = test_datagen.flow_from_directory(\"c:/Users/MMasum/OneDrive/Desktop/mm/test_set\",target_size=(128,128), batch_size=32, class_mode=\"categorical\")"
   ]
  },
  {
   "cell_type": "code",
   "execution_count": null,
   "id": "dc81493a-4d0d-43be-bc9c-69970e6490f2",
   "metadata": {},
   "outputs": [
    {
     "name": "stdout",
     "output_type": "stream",
     "text": [
      "Epoch 1/5\n",
      "25/25 [==============================] - 8s 320ms/step - loss: 1.1144 - accuracy: 0.3775 - val_loss: 1.0650 - val_accuracy: 0.3571\n",
      "Epoch 2/5\n",
      "25/25 [==============================] - 8s 310ms/step - loss: 1.0740 - accuracy: 0.4050 - val_loss: 1.0352 - val_accuracy: 0.4330\n",
      "Epoch 3/5\n",
      " 4/25 [===>..........................] - ETA: 6s - loss: 1.0754 - accuracy: 0.3750"
     ]
    }
   ],
   "source": [
    "classifier.fit(training_dataset, steps_per_epoch= 800/32, epochs= 5, validation_data=test_dataset, validation_steps= 200/32)"
   ]
  },
  {
   "cell_type": "code",
   "execution_count": null,
   "id": "25ebc064-2bf3-4ec2-a7c7-0b6081ed7eec",
   "metadata": {},
   "outputs": [],
   "source": [
    "import os\n",
    "target_dirctory = 'mm'\n",
    "if not os.path.exists(target_dirctory):\n",
    "    os.mkdir(target_dirctory)"
   ]
  },
  {
   "cell_type": "code",
   "execution_count": null,
   "id": "56ca1eb6-b0fe-41a9-a18e-2dfa26f02a5c",
   "metadata": {},
   "outputs": [],
   "source": [
    "classifier.save('mm/aa/am.h5')\n",
    "classifier.save_weights('mm/am/weight.h5')"
   ]
  },
  {
   "cell_type": "code",
   "execution_count": null,
   "id": "9fe310de-8971-424a-aef8-a1f3dd50f1b6",
   "metadata": {},
   "outputs": [],
   "source": [
    "import numpy as np\n",
    "from keras_preprocessing.image import ImageDataGenerator, load_img, img_to_array\n",
    "from keras.models import Sequential, load_model\n",
    "from PIL import Image, ImageTk\n",
    "import requests\n",
    "from tkinter import Tk, Label,NW,Entry, Button\n",
    "from keras.preprocessing import image as image_utils\n",
    "from io import BytesIO"
   ]
  },
  {
   "cell_type": "code",
   "execution_count": null,
   "id": "a230a6c5-e5f4-488b-b93d-608a9082c26c",
   "metadata": {},
   "outputs": [],
   "source": [
    "#load Model\n",
    "image_width, image_height = 128, 128\n",
    "model_path ='mm/aa/am.h5'\n",
    "model_weight_path = 'mm/am/weight.h5'\n",
    "model = load_model(model_path)\n",
    "model.load_weights(model_weight_path)"
   ]
  },
  {
   "cell_type": "code",
   "execution_count": null,
   "id": "d4d66b94-2910-441f-b2d8-6a713a6a0624",
   "metadata": {},
   "outputs": [],
   "source": [
    "url =''\n",
    "window = Tk()\n",
    "window.title('Image Claasification')\n",
    "#window.geometry ('800 x 600')\n",
    "lbl = Label(window, text = \"Please Enter the image Url\", font = ('Halvetica',16))\n",
    "lbl.pack()\n",
    "\n",
    "\n",
    "def Enter ():\n",
    "    global url\n",
    "    lbl.configure()\n",
    "    url = (User_input.get())\n",
    "    print(url)\n",
    "    \n",
    "    \n",
    "    response =  requests.get(url)\n",
    "    test_image = Image.open (BytesIO(response.content))\n",
    "    put_image = test_image.resize ((400,400))\n",
    "    test_image = test_image.resize((128,128))\n",
    "    \n",
    "    \n",
    "    img =ImageTk.PhotoImage(put_image)\n",
    "    pic = Label(image = img)\n",
    "    pic.pack()\n",
    "    pic.image = img\n",
    "    test_image = image_utils.img_to_array(test_image)\n",
    "    test_image = np.expand_dims (test_image, axis = 0)\n",
    "    \n",
    "    result = model.predict_on_batch (test_image)\n",
    "    \n",
    "    if result [0][0] ==1:\n",
    "        ans = \"French Fries\" \n",
    "    elif result [0][1]==1:\n",
    "        ans = \"Pizza\"\n",
    "    elif result [0] [2] ==1:\n",
    "        ans = 'Samosa'\n",
    "        \n",
    "    out = Label(window, text = \"predicted Result: \"+ ans, font = ('Halvetica',16))\n",
    "    out.pack()\n",
    "    "
   ]
  },
  {
   "cell_type": "code",
   "execution_count": null,
   "id": "c5fd67f0-f453-482e-8943-d6038e9c03de",
   "metadata": {},
   "outputs": [],
   "source": []
  },
  {
   "cell_type": "code",
   "execution_count": null,
   "id": "848efd7a-4203-4b78-a6ff-65068fc42ba0",
   "metadata": {},
   "outputs": [],
   "source": []
  },
  {
   "cell_type": "code",
   "execution_count": null,
   "id": "5be6813e-188b-4030-9002-0fed341fc057",
   "metadata": {},
   "outputs": [],
   "source": []
  },
  {
   "cell_type": "code",
   "execution_count": null,
   "id": "2ed75c25-84de-4752-85ec-3dd8531bcb9a",
   "metadata": {},
   "outputs": [],
   "source": []
  },
  {
   "cell_type": "code",
   "execution_count": null,
   "id": "05e4ca77-90eb-4519-937b-300bde14f412",
   "metadata": {},
   "outputs": [],
   "source": []
  },
  {
   "cell_type": "code",
   "execution_count": null,
   "id": "f9f14a2b-68a7-44e2-a661-e99816408068",
   "metadata": {},
   "outputs": [],
   "source": [
    "User_input = Entry(width = 100)\n",
    "User_input.pack()\n",
    "button = Button(window, text = 'Detection the image', font = ('Halvetica',16), command = Enter)\n",
    "button.pack()\n",
    "window.mainloop()"
   ]
  },
  {
   "cell_type": "code",
   "execution_count": null,
   "id": "5ddd8673-39f1-45f3-a041-32df67d46e11",
   "metadata": {},
   "outputs": [],
   "source": [
    "BytesWarning"
   ]
  },
  {
   "cell_type": "code",
   "execution_count": null,
   "id": "44e63d67-5341-42de-bbae-b3661df4a0da",
   "metadata": {},
   "outputs": [],
   "source": []
  }
 ],
 "metadata": {
  "kernelspec": {
   "display_name": "Python 3",
   "language": "python",
   "name": "python3"
  },
  "language_info": {
   "codemirror_mode": {
    "name": "ipython",
    "version": 3
   },
   "file_extension": ".py",
   "mimetype": "text/x-python",
   "name": "python",
   "nbconvert_exporter": "python",
   "pygments_lexer": "ipython3",
   "version": "3.9.6"
  }
 },
 "nbformat": 4,
 "nbformat_minor": 5
}
